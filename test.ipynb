{
 "cells": [
  {
   "cell_type": "code",
   "execution_count": 1,
   "metadata": {},
   "outputs": [],
   "source": [
    "from matplotlib import pyplot as plt\n",
    "import numpy as np\n",
    "plt.style.use('_mpl-gallery')\n"
   ]
  },
  {
   "cell_type": "code",
   "execution_count": 2,
   "metadata": {},
   "outputs": [],
   "source": [
    "# make data:\n",
    "x = 0.5 + np.arange(8)\n",
    "y = [4.8, 5.5, 3.5, 4.6, 6.5, 6.6, 2.6, 3.0]"
   ]
  },
  {
   "cell_type": "code",
   "execution_count": 9,
   "metadata": {},
   "outputs": [
    {
     "data": {
      "image/png": "[encoded data removed]",
      "text/plain": [
       "<Figure size 200x200 with 1 Axes>"
      ]
     },
     "metadata": {},
     "output_type": "display_data"
    }
   ],
   "source": [
    "# plot\n",
    "fig, ax = plt.subplots()"
   ]
  },
  {
   "cell_type": "code",
   "execution_count": 10,
   "metadata": {},
   "outputs": [
    {
     "data": {
      "text/plain": [
       "[(0.0, 8.0),\n",
       " [<matplotlib.axis.XTick at 0x7ff56deea690>,\n",
       "  <matplotlib.axis.XTick at 0x7ff56dee8e90>,\n",
       "  <matplotlib.axis.XTick at 0x7ff56de99bd0>,\n",
       "  <matplotlib.axis.XTick at 0x7ff56bd18250>,\n",
       "  <matplotlib.axis.XTick at 0x7ff56bd1a650>,\n",
       "  <matplotlib.axis.XTick at 0x7ff56de00c90>,\n",
       "  <matplotlib.axis.XTick at 0x7ff56bd52490>],\n",
       " (0.0, 8.0),\n",
       " [<matplotlib.axis.YTick at 0x7ff56deaa050>,\n",
       "  <matplotlib.axis.YTick at 0x7ff56dedc750>,\n",
       "  <matplotlib.axis.YTick at 0x7ff5bc44d710>,\n",
       "  <matplotlib.axis.YTick at 0x7ff56bd2c750>,\n",
       "  <matplotlib.axis.YTick at 0x7ff56bd2f750>,\n",
       "  <matplotlib.axis.YTick at 0x7ff56bd34690>,\n",
       "  <matplotlib.axis.YTick at 0x7ff56df4f1d0>]]"
      ]
     },
     "execution_count": 10,
     "metadata": {},
     "output_type": "execute_result"
    }
   ],
   "source": [
    "ax.bar(x, y, width=1, edgecolor=\"white\", linewidth=0.7)\n",
    "\n",
    "ax.set(xlim=(0, 8), xticks=np.arange(1, 8),\n",
    "       ylim=(0, 8), yticks=np.arange(1, 8))"
   ]
  },
  {
   "cell_type": "code",
   "execution_count": null,
   "metadata": {},
   "outputs": [],
   "source": [
    "plt.show()"
   ]
  }
 ],
 "metadata": {
  "kernelspec": {
   "display_name": "venv",
   "language": "python",
   "name": "python3"
  },
  "language_info": {
   "codemirror_mode": {
    "name": "ipython",
    "version": 3
   },
   "file_extension": ".py",
   "mimetype": "text/x-python",
   "name": "python",
   "nbconvert_exporter": "python",
   "pygments_lexer": "ipython3",
   "version": "3.11.3"
  },
  "orig_nbformat": 4
 },
 "nbformat": 4,
 "nbformat_minor": 2
}
